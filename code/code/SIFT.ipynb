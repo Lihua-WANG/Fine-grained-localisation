{
 "cells": [
  {
   "cell_type": "code",
   "execution_count": 1,
   "id": "quantitative-title",
   "metadata": {},
   "outputs": [],
   "source": [
    "#ref: WorkSheet 7 & 8\n",
    "import cv2\n",
    "import numpy as np\n",
    "import os\n",
    "from matplotlib import pyplot as plt\n",
    "from tqdm import tqdm\n",
    "import pandas as pd\n",
    "import re\n",
    "import csv\n",
    "rootpath='./'\n",
    "train_path = './train'\n",
    "test_path = './test'"
   ]
  },
  {
   "cell_type": "code",
   "execution_count": 2,
   "id": "sharing-favorite",
   "metadata": {},
   "outputs": [],
   "source": [
    "train_dir = [i for i in os.listdir(\"train\") if re.match(r'(.*?.jpg)',i)]\n",
    "test_dir = [i for i in os.listdir(\"test\") if re.match(r'(.*?.jpg)',i)]"
   ]
  },
  {
   "cell_type": "code",
   "execution_count": 3,
   "id": "generic-cooper",
   "metadata": {},
   "outputs": [],
   "source": [
    "sift = cv2.SIFT_create()"
   ]
  },
  {
   "cell_type": "code",
   "execution_count": 4,
   "id": "musical-segment",
   "metadata": {},
   "outputs": [
    {
     "name": "stderr",
     "output_type": "stream",
     "text": [
      "  1%|          | 70/7500 [00:04<07:41, 16.09it/s]\n"
     ]
    },
    {
     "ename": "KeyboardInterrupt",
     "evalue": "",
     "output_type": "error",
     "traceback": [
      "\u001b[0;31m---------------------------------------------------------------------------\u001b[0m",
      "\u001b[0;31mKeyboardInterrupt\u001b[0m                         Traceback (most recent call last)",
      "\u001b[0;32m<ipython-input-4-75da614bbf51>\u001b[0m in \u001b[0;36m<module>\u001b[0;34m\u001b[0m\n\u001b[1;32m      8\u001b[0m         \u001b[0mdess\u001b[0m\u001b[0;34m[\u001b[0m\u001b[0mi\u001b[0m\u001b[0;34m]\u001b[0m \u001b[0;34m=\u001b[0m \u001b[0mdes\u001b[0m\u001b[0;34m\u001b[0m\u001b[0;34m\u001b[0m\u001b[0m\n\u001b[1;32m      9\u001b[0m     \u001b[0;32mreturn\u001b[0m \u001b[0mkps\u001b[0m\u001b[0;34m,\u001b[0m\u001b[0mdess\u001b[0m\u001b[0;34m\u001b[0m\u001b[0;34m\u001b[0m\u001b[0m\n\u001b[0;32m---> 10\u001b[0;31m \u001b[0mkps_sift_train\u001b[0m\u001b[0;34m,\u001b[0m \u001b[0mdess_sift_train\u001b[0m \u001b[0;34m=\u001b[0m \u001b[0msift_res\u001b[0m\u001b[0;34m(\u001b[0m\u001b[0mtrain_dir\u001b[0m\u001b[0;34m,\u001b[0m\u001b[0mtrain_path\u001b[0m\u001b[0;34m)\u001b[0m\u001b[0;34m\u001b[0m\u001b[0;34m\u001b[0m\u001b[0m\n\u001b[0m\u001b[1;32m     11\u001b[0m \u001b[0mkps_sift_test\u001b[0m\u001b[0;34m,\u001b[0m \u001b[0mdess_sift_test\u001b[0m \u001b[0;34m=\u001b[0m \u001b[0msift_res\u001b[0m\u001b[0;34m(\u001b[0m\u001b[0mtest_dir\u001b[0m\u001b[0;34m,\u001b[0m\u001b[0mtest_path\u001b[0m\u001b[0;34m)\u001b[0m\u001b[0;34m\u001b[0m\u001b[0;34m\u001b[0m\u001b[0m\n",
      "\u001b[0;32m<ipython-input-4-75da614bbf51>\u001b[0m in \u001b[0;36msift_res\u001b[0;34m(x_dir, x_path)\u001b[0m\n\u001b[1;32m      4\u001b[0m     \u001b[0;32mfor\u001b[0m \u001b[0mi\u001b[0m \u001b[0;32min\u001b[0m \u001b[0mtqdm\u001b[0m\u001b[0;34m(\u001b[0m\u001b[0mx_dir\u001b[0m\u001b[0;34m)\u001b[0m\u001b[0;34m:\u001b[0m\u001b[0;34m\u001b[0m\u001b[0;34m\u001b[0m\u001b[0m\n\u001b[1;32m      5\u001b[0m         \u001b[0mtarget_img\u001b[0m \u001b[0;34m=\u001b[0m \u001b[0mcv2\u001b[0m\u001b[0;34m.\u001b[0m\u001b[0mimread\u001b[0m\u001b[0;34m(\u001b[0m\u001b[0mos\u001b[0m\u001b[0;34m.\u001b[0m\u001b[0mpath\u001b[0m\u001b[0;34m.\u001b[0m\u001b[0mjoin\u001b[0m\u001b[0;34m(\u001b[0m\u001b[0mx_path\u001b[0m\u001b[0;34m,\u001b[0m\u001b[0mi\u001b[0m\u001b[0;34m)\u001b[0m\u001b[0;34m,\u001b[0m\u001b[0;36m0\u001b[0m\u001b[0;34m)\u001b[0m\u001b[0;34m\u001b[0m\u001b[0;34m\u001b[0m\u001b[0m\n\u001b[0;32m----> 6\u001b[0;31m         \u001b[0mkp\u001b[0m\u001b[0;34m,\u001b[0m \u001b[0mdes\u001b[0m \u001b[0;34m=\u001b[0m\u001b[0msift\u001b[0m\u001b[0;34m.\u001b[0m\u001b[0mdetectAndCompute\u001b[0m\u001b[0;34m(\u001b[0m\u001b[0mtarget_img\u001b[0m\u001b[0;34m,\u001b[0m\u001b[0;32mNone\u001b[0m\u001b[0;34m)\u001b[0m\u001b[0;34m\u001b[0m\u001b[0;34m\u001b[0m\u001b[0m\n\u001b[0m\u001b[1;32m      7\u001b[0m         \u001b[0mkps\u001b[0m\u001b[0;34m[\u001b[0m\u001b[0mi\u001b[0m\u001b[0;34m]\u001b[0m \u001b[0;34m=\u001b[0m \u001b[0mkp\u001b[0m\u001b[0;34m\u001b[0m\u001b[0;34m\u001b[0m\u001b[0m\n\u001b[1;32m      8\u001b[0m         \u001b[0mdess\u001b[0m\u001b[0;34m[\u001b[0m\u001b[0mi\u001b[0m\u001b[0;34m]\u001b[0m \u001b[0;34m=\u001b[0m \u001b[0mdes\u001b[0m\u001b[0;34m\u001b[0m\u001b[0;34m\u001b[0m\u001b[0m\n",
      "\u001b[0;31mKeyboardInterrupt\u001b[0m: "
     ]
    }
   ],
   "source": [
    "def sift_res(x_dir,x_path):\n",
    "    kps = {}\n",
    "    dess = {}\n",
    "    for i in tqdm(x_dir):\n",
    "        target_img = cv2.imread(os.path.join(x_path,i),0)\n",
    "        kp, des =sift.detectAndCompute(target_img,None)\n",
    "        kps[i] = kp\n",
    "        dess[i] = des\n",
    "    return kps,dess\n",
    "kps_sift_train, dess_sift_train = sift_res(train_dir,train_path)\n",
    "kps_sift_test, dess_sift_test = sift_res(test_dir,test_path)"
   ]
  },
  {
   "cell_type": "code",
   "execution_count": null,
   "id": "interracial-james",
   "metadata": {},
   "outputs": [],
   "source": [
    "def find_top_n(img_path, target,num):\n",
    "    res = {}\n",
    "    img = cv2.imread(os.path.join(test_path,img_path),cv2.IMREAD_GRAYSCALE)\n",
    "    kp1 = kps_sift_test[img_path]\n",
    "    des1 = dess_sift_test[img_path]\n",
    "    for i in target:\n",
    "        target_img = cv2.imread(os.path.join(train_path,i),cv2.IMREAD_GRAYSCALE)\n",
    "        kp2 = kps_sift_train[i]\n",
    "        des2 = dess_sift_train[i]\n",
    "        # FLANN parameters and initialize\n",
    "        FLANN_INDEX_KDTREE = 1\n",
    "        index_params = dict(algorithm = FLANN_INDEX_KDTREE, trees = 5)\n",
    "        search_params = dict(checks=50)   # or pass empty dictionary\n",
    "        flann = cv2.FlannBasedMatcher(index_params,search_params)\n",
    "        if(len(kp1)>=2 and len(kp2)>=2):\n",
    "            # Matching descriptor using KNN algorithm\n",
    "            matches = flann.knnMatch(des1, des2, k=2) \n",
    "            # Create a mask to draw all good matches\n",
    "            matchesMask = []\n",
    "            # Store all good matches as per Lowe's Ratio test.\n",
    "            good = []\n",
    "            for m,n in matches:\n",
    "                if m.distance < 0.7*n.distance:\n",
    "                    good.append(m)\n",
    "                    matchesMask.append([1,0]) # Match\n",
    "                else:\n",
    "                    matchesMask.append([0,0]) # Mismatch\n",
    "            # Print total number of good matches between two images\n",
    "            res[i] = len(good)/len(matchesMask)\n",
    "    return sorted(res.items(), key = lambda x:(x[1],x[0]), reverse=True)[:num]"
   ]
  },
  {
   "cell_type": "code",
   "execution_count": null,
   "id": "utility-essay",
   "metadata": {},
   "outputs": [],
   "source": [
    "def find_best(top_n,img_path):\n",
    "    ret = []\n",
    "    img = cv2.imread(os.path.join(test_path,img_path),0)\n",
    "    kp1 = kps_sift_test[img_path]\n",
    "    des1 = dess_sift_test[img_path]\n",
    "    for i in top_n:\n",
    "        candidate = cv2.imread(os.path.join(train_path,i[0]),0)\n",
    "        kp2 = kps_sift_train[i[0]]\n",
    "        des2 = dess_sift_train[i[0]]\n",
    "        # FLANN parameters and initialize\n",
    "        FLANN_INDEX_KDTREE = 1\n",
    "        index_params = dict(algorithm = FLANN_INDEX_KDTREE, trees = 5)\n",
    "        search_params = dict(checks=50)   # or pass empty dictionary\n",
    "        flann = cv2.FlannBasedMatcher(index_params,search_params)\n",
    "        # Matching descriptor using KNN algorithm\n",
    "        matches = flann.knnMatch(des1,des2,k=2)\n",
    "        # Create a mask to draw all good matches\n",
    "        matchesMask = []\n",
    "        # Store all good matches as per Lowe's Ratio test.\n",
    "        good = []\n",
    "        for m,n in matches:\n",
    "            if m.distance < 0.7*n.distance:\n",
    "                good.append(m)\n",
    "                matchesMask.append([1,0]) # Match\n",
    "            else:\n",
    "                matchesMask.append([0,0]) # Mismatch\n",
    "        MIN_MATCH_NUM = 4\n",
    "        if len(good)> MIN_MATCH_NUM:\n",
    "\n",
    "            ptsA = np.float32([kp1[m.queryIdx].pt for m in good]).reshape(-1,1,2)\n",
    "            ptsB = np.float32([kp2[m.trainIdx].pt for m in good]).reshape(-1,1,2)\n",
    "            H, status = cv2.findHomography(ptsA, \n",
    "                                           ptsB, \n",
    "                                           cv2.RANSAC, \n",
    "                                           ransacReprojThreshold = 5, \n",
    "                                           maxIters = 10) # try to change maxIters and see the effect\n",
    "            success = status.ravel().tolist()\n",
    "            #Threshold to avoid match wall\n",
    "            if(success.count(1)/len(good) > 0.15):\n",
    "                ret.append(i[0])\n",
    "                if len(ret)>1:\n",
    "                    return ret\n",
    "    if len(ret)<1 and len(top_n)>1:\n",
    "        ret.append(top_n[0][0])\n",
    "        ret.append(top_n[1][0])\n",
    "    return ret"
   ]
  },
  {
   "cell_type": "code",
   "execution_count": null,
   "id": "earned-superior",
   "metadata": {},
   "outputs": [],
   "source": [
    "train_csv = pd.read_csv(\"train.csv\")\n",
    "\n",
    "def main_func(flann_num=50,start=0,end=1200):\n",
    "    errors = []\n",
    "    for test_file in tqdm(test_dir[start:end]):\n",
    "        flann_top = find_top_n(test_file,train_dir,flann_num)\n",
    "        best_match = find_best(flann_top,test_file)\n",
    "        if len(best_match)==1:\n",
    "            best_match = re.sub(\".jpg\",\"\",best_match[0])\n",
    "            x = train_csv.loc[train_csv[\"id\"]==best_match][\"x\"].values[0]\n",
    "            y = train_csv.loc[train_csv[\"id\"]==best_match][\"y\"].values[0]\n",
    "            f = open('test_sift.csv','a')\n",
    "            writer = csv.writer(f)\n",
    "            test_file = re.sub(\".jpg\",\"\",test_file)\n",
    "            writer.writerow((test_file,x,y,best_match,0))\n",
    "            f.close()\n",
    "        elif len(best_match)==2:\n",
    "            best_match1 = re.sub(\".jpg\",\"\",best_match[1])\n",
    "            best_match = re.sub(\".jpg\",\"\",best_match[0])\n",
    "            x = train_csv.loc[train_csv[\"id\"]==best_match][\"x\"].values[0]\n",
    "            y = train_csv.loc[train_csv[\"id\"]==best_match][\"y\"].values[0]\n",
    "            f = open('test_sift.csv','a')\n",
    "            writer = csv.writer(f)\n",
    "            test_file = re.sub(\".jpg\",\"\",test_file)\n",
    "            writer.writerow((test_file,x,y,best_match,best_match1))\n",
    "            f.close()\n",
    "        else:\n",
    "            errors.append(test_file)\n",
    "            print(test_file)\n",
    "    return errors"
   ]
  },
  {
   "cell_type": "code",
   "execution_count": null,
   "id": "sacred-wound",
   "metadata": {
    "scrolled": true
   },
   "outputs": [],
   "source": [
    "err = main_func(start=0,end=100)"
   ]
  },
  {
   "cell_type": "code",
   "execution_count": null,
   "id": "occasional-breach",
   "metadata": {},
   "outputs": [],
   "source": []
  }
 ],
 "metadata": {
  "kernelspec": {
   "display_name": "Python 3",
   "language": "python",
   "name": "python3"
  },
  "language_info": {
   "codemirror_mode": {
    "name": "ipython",
    "version": 3
   },
   "file_extension": ".py",
   "mimetype": "text/x-python",
   "name": "python",
   "nbconvert_exporter": "python",
   "pygments_lexer": "ipython3",
   "version": "3.8.7"
  }
 },
 "nbformat": 4,
 "nbformat_minor": 5
}
