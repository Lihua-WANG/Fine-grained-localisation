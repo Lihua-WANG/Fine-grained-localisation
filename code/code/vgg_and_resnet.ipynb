{
 "cells": [
  {
   "cell_type": "code",
   "execution_count": 1,
   "id": "royal-volunteer",
   "metadata": {},
   "outputs": [],
   "source": [
    "#Ref: https://cloud.tencent.com/developer/article/1498076\n",
    "import numpy as np\n",
    "from tensorflow.keras.applications.vgg19 import VGG19\n",
    "from tensorflow.keras.applications.resnet import ResNet152\n",
    "from tensorflow.keras.applications.vgg19 import preprocess_input as preprocess_input_vgg\n",
    "from tensorflow.keras.applications.resnet import preprocess_input as preprocess_input_resnet\n",
    "from tensorflow.keras.preprocessing import image\n",
    "\n",
    "import h5py\n",
    "import os\n",
    "from matplotlib import pyplot as plt\n",
    "from tqdm import tqdm\n",
    "import pandas as pd\n",
    "import re\n",
    "\n",
    "rootpath='./'\n",
    "train_path = './train'\n",
    "test_path = './test'\n",
    "train_dir = [i for i in os.listdir(\"train\") if re.match(r'(.*?.jpg)',i)]\n",
    "test_dir = [i for i in os.listdir(\"test\") if re.match(r'(.*?.jpg)',i)]"
   ]
  },
  {
   "cell_type": "code",
   "execution_count": 2,
   "id": "exact-violin",
   "metadata": {},
   "outputs": [],
   "source": [
    "# init models, load pre-trained weights and exclude top\n",
    "resnet = ResNet152(weights = 'imagenet',input_shape=(680,490,3),pooling='max', include_top=False)\n",
    "vgg = VGG19(weights = 'imagenet',input_shape=(680,490,3),pooling='max', include_top=False)"
   ]
  },
  {
   "cell_type": "code",
   "execution_count": 3,
   "id": "associate-courage",
   "metadata": {},
   "outputs": [],
   "source": [
    "def extract_feature(model,process_input,img):\n",
    "    img = image.load_img(img,target_size=(680,490))\n",
    "    img = image.img_to_array(img)\n",
    "    img = np.expand_dims(img,axis=0)\n",
    "    img = preprocess_input(img)\n",
    "    feat = model.predict(img)\n",
    "    # Normalization\n",
    "    norm_feat = feat[0] / np.linalg.norm(feat[0])\n",
    "    return norm_feat"
   ]
  },
  {
   "cell_type": "code",
   "execution_count": null,
   "id": "sustainable-roulette",
   "metadata": {},
   "outputs": [],
   "source": [
    "# Store extracted features to h5 file (to avoid out of memory)\n",
    "feats = []\n",
    "names = []\n",
    "index = './vgg_extracted.h5'\n",
    "for img_path in tqdm(train_dir):\n",
    "    norm_feat = extract_feature(vgg,preprocess_input_vgg,os.path.join(train_path,img_path))\n",
    "    img_name = re.sub(\".jpg\",\"\",img_path)\n",
    "    feats.append(norm_feat)\n",
    "    names.append(img_name)\n",
    "feats = np.array(feats)\n",
    "output = index\n",
    "h5f = h5py.File(output,'w')\n",
    "h5f.create_dataset('feature',data=feats)\n",
    "h5f.create_dataset('name',data=np.string_(names))\n",
    "h5f.close()"
   ]
  },
  {
   "cell_type": "code",
   "execution_count": null,
   "id": "gothic-porcelain",
   "metadata": {},
   "outputs": [],
   "source": [
    "feats = []\n",
    "names = []\n",
    "index = './resnet_extracted.h5'\n",
    "for img_path in tqdm(train_dir):\n",
    "    norm_feat = extract_feature(resnet,preprocess_input_resnet,os.path.join(train_path,img_path))\n",
    "    img_name = re.sub(\".jpg\",\"\",img_path)\n",
    "    feats.append(norm_feat)\n",
    "    names.append(img_name)\n",
    "feats = np.array(feats)\n",
    "output = index\n",
    "h5f = h5py.File(output,'w')\n",
    "h5f.create_dataset('feature',data=feats)\n",
    "h5f.create_dataset('name',data=np.string_(names))\n",
    "h5f.close()"
   ]
  },
  {
   "cell_type": "code",
   "execution_count": null,
   "id": "comfortable-banks",
   "metadata": {},
   "outputs": [],
   "source": [
    "train_csv = pd.read_csv(\"train.csv\")"
   ]
  },
  {
   "cell_type": "markdown",
   "id": "clinical-gambling",
   "metadata": {},
   "source": [
    "Find best match by VGG"
   ]
  },
  {
   "cell_type": "code",
   "execution_count": null,
   "id": "dental-singapore",
   "metadata": {},
   "outputs": [],
   "source": [
    "index = 'vgg_featureCNN.h5'\n",
    "h5f = h5py.File(index,'r')\n",
    "feats = h5f['feature'][:]\n",
    "imgNames = h5f['name'][:]\n",
    "h5f.close()"
   ]
  },
  {
   "cell_type": "code",
   "execution_count": null,
   "id": "instrumental-river",
   "metadata": {},
   "outputs": [],
   "source": [
    "for i in test_dir:\n",
    "    query = os.path.join(test_path,i)\n",
    "    query_feat = extract_feature(vgg,preprocess_input_vgg,os.path.join(test_path,i))\n",
    "    scores = np.dot(query_feat,feats.T)\n",
    "    best = np.argsort(scores)[::-1][0]\n",
    "    \n",
    "    s = str(imgNames[best],'utf-8')\n",
    "    x = train_csv.loc[train_csv[\"id\"]==s][\"x\"].values[0]\n",
    "    y = train_csv.loc[train_csv[\"id\"]==s][\"y\"].values[0]\n",
    "    f = open('vgg.csv','a', newline='')\n",
    "    writer = csv.writer(f)\n",
    "    writer.writerow((i[0],x,y))\n",
    "    f.close()"
   ]
  },
  {
   "cell_type": "markdown",
   "id": "pediatric-economy",
   "metadata": {},
   "source": [
    "Find best match by VGG"
   ]
  },
  {
   "cell_type": "code",
   "execution_count": null,
   "id": "single-producer",
   "metadata": {},
   "outputs": [],
   "source": [
    "index = 'resnet_featureCNN.h5'\n",
    "h5f = h5py.File(index,'r')\n",
    "feats = h5f['feature'][:]\n",
    "imgNames = h5f['name'][:]\n",
    "h5f.close()"
   ]
  },
  {
   "cell_type": "code",
   "execution_count": null,
   "id": "representative-serbia",
   "metadata": {},
   "outputs": [],
   "source": [
    "for i in test_dir:\n",
    "    query = os.path.join(test_path,i)\n",
    "    query_feat = extract_feature(resnet,preprocess_input_resnet,os.path.join(test_path,i))\n",
    "    scores = np.dot(query_feat,feats.T)\n",
    "    best = np.argsort(scores)[::-1][0]\n",
    "    \n",
    "    s = str(imgNames[best],'utf-8')\n",
    "    x = train_csv.loc[train_csv[\"id\"]==s][\"x\"].values[0]\n",
    "    y = train_csv.loc[train_csv[\"id\"]==s][\"y\"].values[0]\n",
    "    f = open('resnet.csv','a', newline='')\n",
    "    writer = csv.writer(f)\n",
    "    writer.writerow((i[0],x,y))\n",
    "    f.close()"
   ]
  }
 ],
 "metadata": {
  "kernelspec": {
   "display_name": "Python 3",
   "language": "python",
   "name": "python3"
  },
  "language_info": {
   "codemirror_mode": {
    "name": "ipython",
    "version": 3
   },
   "file_extension": ".py",
   "mimetype": "text/x-python",
   "name": "python",
   "nbconvert_exporter": "python",
   "pygments_lexer": "ipython3",
   "version": "3.8.7"
  }
 },
 "nbformat": 4,
 "nbformat_minor": 5
}
