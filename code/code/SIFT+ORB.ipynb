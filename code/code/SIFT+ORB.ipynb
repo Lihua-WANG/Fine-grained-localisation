{
 "cells": [
  {
   "cell_type": "code",
   "execution_count": 1,
   "id": "quantitative-title",
   "metadata": {},
   "outputs": [],
   "source": [
    "#ref: WorkSheet 7 & 8\n",
    "import cv2\n",
    "import numpy as np\n",
    "import os\n",
    "from matplotlib import pyplot as plt\n",
    "from tqdm import tqdm\n",
    "import pandas as pd\n",
    "import re\n",
    "import csv\n",
    "rootpath='./'\n",
    "train_path = './train'\n",
    "test_path = './test'"
   ]
  },
  {
   "cell_type": "code",
   "execution_count": 3,
   "id": "sharing-favorite",
   "metadata": {},
   "outputs": [],
   "source": [
    "train_dir = [i for i in os.listdir(\"train\") if re.match(r'(.*?.jpg)',i)]\n",
    "test_dir = [i for i in os.listdir(\"test\") if re.match(r'(.*?.jpg)',i)]"
   ]
  },
  {
   "cell_type": "code",
   "execution_count": 4,
   "id": "generic-cooper",
   "metadata": {},
   "outputs": [],
   "source": [
    "sift = cv2.SIFT_create()\n",
    "orb = cv2.ORB_create()"
   ]
  },
  {
   "cell_type": "code",
   "execution_count": 7,
   "id": "caroline-interval",
   "metadata": {},
   "outputs": [],
   "source": [
    "def orb_res():\n",
    "    kps = {}\n",
    "    dess = {}\n",
    "    for i in tqdm(train_dir):\n",
    "        target_img = cv2.imread(os.path.join(train_path,i),0)\n",
    "        kp, des =orb.detectAndCompute(target_img,None)\n",
    "        kps[i] = kp\n",
    "        dess[i] = des\n",
    "    return kps,dess"
   ]
  },
  {
   "cell_type": "code",
   "execution_count": 8,
   "id": "accepting-pantyhose",
   "metadata": {},
   "outputs": [],
   "source": [
    "def orb_find_top(img_path, target,num):\n",
    "    res = {}\n",
    "    img = cv2.imread(os.path.join(test_path,img_path), 0)\n",
    "    kp1,des1 = orb.detectAndCompute(img,None)\n",
    "    for i in target:\n",
    "        target_img = cv2.imread(os.path.join(train_path,i),0)\n",
    "        kp2 = kps[i]\n",
    "        des2 = dess[i]\n",
    "        matcher = cv2.BFMatcher()\n",
    "        if(len(kp1)>=2 and len(kp2)>=2):\n",
    "            matches = matcher.knnMatch(des1,des2,k=2)\n",
    "            matchesMask = []\n",
    "            good = []\n",
    "            for m,n in matches:\n",
    "                if m.distance < 0.7*n.distance:\n",
    "                    good.append(m)\n",
    "                    matchesMask.append([1,0]) # Match\n",
    "                else:\n",
    "                    matchesMask.append([0,0]) # Mismatch           \n",
    "            res[i] = len(good)/len(matchesMask)\n",
    "        else:\n",
    "            res[i]=0\n",
    "    return sorted(res.items(), key = lambda x:(x[1],x[0]), reverse=True)[:num]"
   ]
  },
  {
   "cell_type": "code",
   "execution_count": 9,
   "id": "sweet-contractor",
   "metadata": {
    "scrolled": true
   },
   "outputs": [],
   "source": [
    "# img_test = \"IMG4318_2.jpg\"\n",
    "# top_50 = orb_find_top(img_test,train_dir,200)\n",
    "# top_10 = find_top_n(img_test, top_50,50)\n",
    "# b = find_best(top_10,img_test)[0]\n",
    "# plt.figure(figsize=(15, 15))\n",
    "# img = cv2.imread(os.path.join(train_path,b))\n",
    "# img = cv2.cvtColor(img,cv2.COLOR_BGR2RGB)\n",
    "# plt.imshow(img)\n",
    "# plt.axis('off')\n",
    "# plt.show()"
   ]
  },
  {
   "cell_type": "code",
   "execution_count": 10,
   "id": "legendary-jenny",
   "metadata": {
    "scrolled": true
   },
   "outputs": [],
   "source": [
    "# for i in top_10:\n",
    "#     plt.figure(figsize=(15, 15))\n",
    "#     img = cv2.imread(os.path.join(train_path,i[0]))\n",
    "#     img = cv2.cvtColor(img,cv2.COLOR_BGR2RGB)\n",
    "#     plt.imshow(img)\n",
    "#     plt.axis('off')\n",
    "#     plt.show()"
   ]
  },
  {
   "cell_type": "code",
   "execution_count": 11,
   "id": "copyrighted-emergency",
   "metadata": {},
   "outputs": [],
   "source": [
    "def sift_res():\n",
    "    kps = {}\n",
    "    dess = {}\n",
    "    for i in tqdm(train_dir):\n",
    "        target_img = cv2.imread(os.path.join(train_path,i),0)\n",
    "        kp, des =sift.detectAndCompute(target_img,None)\n",
    "        kps[i] = kp\n",
    "        dess[i] = des\n",
    "    return kps,dess"
   ]
  },
  {
   "cell_type": "code",
   "execution_count": 12,
   "id": "interracial-james",
   "metadata": {},
   "outputs": [],
   "source": [
    "def find_top_n(img_path, target,num):\n",
    "    res = {}\n",
    "    img = cv2.imread(os.path.join(test_path,img_path),cv2.IMREAD_GRAYSCALE)\n",
    "    kp1,des1 = sift.detectAndCompute(img,None)\n",
    "    for i in target:\n",
    "        target_img = cv2.imread(os.path.join(train_path,i[0]),cv2.IMREAD_GRAYSCALE)\n",
    "        kp2 = kps_sift[i[0]]\n",
    "        des2 = dess_sift[i[0]]\n",
    "        # FLANN parameters and initialize\n",
    "        FLANN_INDEX_KDTREE = 1\n",
    "        index_params = dict(algorithm = FLANN_INDEX_KDTREE, trees = 5)\n",
    "        search_params = dict(checks=50)   # or pass empty dictionary\n",
    "        flann = cv2.FlannBasedMatcher(index_params,search_params)\n",
    "        if(len(kp1)>=2 and len(kp2)>=2):\n",
    "            # Matching descriptor using KNN algorithm\n",
    "            matches = flann.knnMatch(des1, des2, k=2) \n",
    "            # Create a mask to draw all good matches\n",
    "            matchesMask = []\n",
    "            # Store all good matches as per Lowe's Ratio test.\n",
    "            good = []\n",
    "            for m,n in matches:\n",
    "                if m.distance < 0.7*n.distance:\n",
    "                    good.append(m)\n",
    "                    matchesMask.append([1,0]) # Match\n",
    "                else:\n",
    "                    matchesMask.append([0,0]) # Mismatch\n",
    "            # Print total number of good matches between two images\n",
    "            res[i[0]] = len(good)/len(matchesMask)\n",
    "    return sorted(res.items(), key = lambda x:(x[1],x[0]), reverse=True)[:num]"
   ]
  },
  {
   "cell_type": "code",
   "execution_count": 27,
   "id": "utility-essay",
   "metadata": {},
   "outputs": [],
   "source": [
    "def find_best(top_n,img_path):\n",
    "    ret = []\n",
    "    for i in top_n:\n",
    "        img = cv2.imread(os.path.join(test_path,img_path),0)\n",
    "        candidate = cv2.imread(os.path.join(train_path,i[0]),0)\n",
    "        kp1, des1 = sift.detectAndCompute(img,None)\n",
    "        kp2 = kps_sift[i[0]]\n",
    "        des2 = dess_sift[i[0]]\n",
    "        # FLANN parameters and initialize\n",
    "        FLANN_INDEX_KDTREE = 1\n",
    "        index_params = dict(algorithm = FLANN_INDEX_KDTREE, trees = 5)\n",
    "        search_params = dict(checks=50)   # or pass empty dictionary\n",
    "        flann = cv2.FlannBasedMatcher(index_params,search_params)\n",
    "        # Matching descriptor using KNN algorithm\n",
    "        matches = flann.knnMatch(des1,des2,k=2)\n",
    "        # Create a mask to draw all good matches\n",
    "        matchesMask = []\n",
    "        # Store all good matches as per Lowe's Ratio test.\n",
    "        good = []\n",
    "        for m,n in matches:\n",
    "            if m.distance < 0.7*n.distance:\n",
    "                good.append(m)\n",
    "                matchesMask.append([1,0]) # Match\n",
    "            else:\n",
    "                matchesMask.append([0,0]) # Mismatch\n",
    "        # Now we set a condition that at least N matches (defined by MIN_MATCH_NUM) are required to find the object. \n",
    "        MIN_MATCH_NUM = 4\n",
    "        if len(good)> MIN_MATCH_NUM:\n",
    "            # If enough matches are found, we extract the positions of the matched keypoints in both images. \n",
    "            # They are passed to find the perspective transformation. \n",
    "\n",
    "            # Estimate homography between two images\n",
    "            ptsA = np.float32([kp1[m.queryIdx].pt for m in good]).reshape(-1,1,2)\n",
    "            ptsB = np.float32([kp2[m.trainIdx].pt for m in good]).reshape(-1,1,2)\n",
    "            H, status = cv2.findHomography(ptsA, \n",
    "                                           ptsB, \n",
    "                                           cv2.RANSAC, \n",
    "                                           ransacReprojThreshold = 5, \n",
    "                                           maxIters = 10) # try to change maxIters and see the effect\n",
    "            success = status.ravel().tolist()\n",
    "            #Threshold to avoid match wall\n",
    "            if(success.count(1)/len(good) > 0.15):\n",
    "                ret.append(i[0])\n",
    "                if len(ret)>1:\n",
    "                    return ret\n",
    "    if len(ret)<1:\n",
    "        ret.append(top_n[0][0])\n",
    "        ret.append(top_n[1][0])\n",
    "    return ret"
   ]
  },
  {
   "cell_type": "code",
   "execution_count": 26,
   "id": "earned-superior",
   "metadata": {},
   "outputs": [],
   "source": [
    "train_csv = pd.read_csv(\"train.csv\")\n",
    "image_names = pd.read_csv(\"imagenames.csv\").values.flatten()\n",
    "def main_func(hash_num=1000,flann_num=50):\n",
    "    errors = []\n",
    "    for test_file in tqdm(test_dir):\n",
    "        #test_file+=\".jpg\"\n",
    "        #pHash_top = rank_pic_by_phash(test_file,hash_num,hash_values)\n",
    "        orb_top = orb_find_top(test_file,train_dir,200)\n",
    "        print(orb_top)\n",
    "        flann_top = find_top_n(test_file,orb_top,flann_num)\n",
    "        best_match = find_best(flann_top,test_file)\n",
    "        if len(best_match)==1:\n",
    "            best_match = re.sub(\".jpg\",\"\",best_match[0])\n",
    "            x = train_csv.loc[train_csv[\"id\"]==best_match][\"x\"].values[0]\n",
    "            y = train_csv.loc[train_csv[\"id\"]==best_match][\"y\"].values[0]\n",
    "            f = open('test.csv','a')\n",
    "            writer = csv.writer(f)\n",
    "            test_file = re.sub(\".jpg\",\"\",test_file)\n",
    "            writer.writerow((test_file,x,y,best_match,0))\n",
    "            f.close()\n",
    "        elif len(best_match)==2:\n",
    "            best_match1 = re.sub(\".jpg\",\"\",best_match[1])\n",
    "            best_match = re.sub(\".jpg\",\"\",best_match[0])\n",
    "            x = train_csv.loc[train_csv[\"id\"]==best_match][\"x\"].values[0]\n",
    "            y = train_csv.loc[train_csv[\"id\"]==best_match][\"y\"].values[0]\n",
    "            f = open('test.csv','a')\n",
    "            writer = csv.writer(f)\n",
    "            test_file = re.sub(\".jpg\",\"\",test_file)\n",
    "            writer.writerow((test_file,x,y,best_match,best_match1))\n",
    "            f.close()\n",
    "        else:\n",
    "            errors.append(test_file)\n",
    "            print(test_file)\n",
    "    return errors"
   ]
  },
  {
   "cell_type": "code",
   "execution_count": 17,
   "id": "swiss-machine",
   "metadata": {},
   "outputs": [
    {
     "name": "stderr",
     "output_type": "stream",
     "text": [
      "100%|██████████| 7500/7500 [01:11<00:00, 105.29it/s]\n",
      "100%|██████████| 7500/7500 [06:42<00:00, 18.62it/s]\n"
     ]
    }
   ],
   "source": [
    "kps, dess = orb_res()\n",
    "kps_sift, dess_sift = sift_res()"
   ]
  },
  {
   "cell_type": "code",
   "execution_count": 25,
   "id": "sacred-wound",
   "metadata": {},
   "outputs": [
    {
     "name": "stderr",
     "output_type": "stream",
     "text": [
      "  0%|          | 0/2 [00:00<?, ?it/s]"
     ]
    },
    {
     "name": "stdout",
     "output_type": "stream",
     "text": [
      "[('IMG4243_5.jpg', 0), ('IMG4243_4.jpg', 0), ('IMG4243_3.jpg', 0), ('IMG4243_2.jpg', 0), ('IMG4243_1.jpg', 0), ('IMG4242_5.jpg', 0), ('IMG4242_4.jpg', 0), ('IMG4242_3.jpg', 0), ('IMG4242_2.jpg', 0), ('IMG4242_1.jpg', 0), ('IMG4241_5.jpg', 0), ('IMG4241_4.jpg', 0), ('IMG4241_3.jpg', 0), ('IMG4241_2.jpg', 0), ('IMG4241_1.jpg', 0), ('IMG4240_5.jpg', 0), ('IMG4240_4.jpg', 0), ('IMG4240_3.jpg', 0), ('IMG4240_2.jpg', 0), ('IMG4240_1.jpg', 0), ('IMG4239_5.jpg', 0), ('IMG4239_4.jpg', 0), ('IMG4239_3.jpg', 0), ('IMG4239_2.jpg', 0), ('IMG4239_1.jpg', 0), ('IMG4238_5.jpg', 0), ('IMG4238_4.jpg', 0), ('IMG4238_3.jpg', 0), ('IMG4238_2.jpg', 0), ('IMG4238_1.jpg', 0), ('IMG4237_5.jpg', 0), ('IMG4237_4.jpg', 0), ('IMG4237_3.jpg', 0), ('IMG4237_2.jpg', 0), ('IMG4237_1.jpg', 0), ('IMG4236_5.jpg', 0), ('IMG4236_4.jpg', 0), ('IMG4236_3.jpg', 0), ('IMG4236_2.jpg', 0), ('IMG4236_1.jpg', 0), ('IMG4235_5.jpg', 0), ('IMG4235_4.jpg', 0), ('IMG4235_3.jpg', 0), ('IMG4235_2.jpg', 0), ('IMG4235_1.jpg', 0), ('IMG4234_5.jpg', 0), ('IMG4234_4.jpg', 0), ('IMG4234_3.jpg', 0), ('IMG4234_2.jpg', 0), ('IMG4234_1.jpg', 0), ('IMG4233_5.jpg', 0), ('IMG4233_4.jpg', 0), ('IMG4233_3.jpg', 0), ('IMG4233_2.jpg', 0), ('IMG4233_1.jpg', 0), ('IMG4232_5.jpg', 0), ('IMG4232_4.jpg', 0), ('IMG4232_3.jpg', 0), ('IMG4232_2.jpg', 0), ('IMG4232_1.jpg', 0), ('IMG4231_5.jpg', 0), ('IMG4231_4.jpg', 0), ('IMG4231_3.jpg', 0), ('IMG4231_2.jpg', 0), ('IMG4231_1.jpg', 0), ('IMG4230_5.jpg', 0), ('IMG4230_4.jpg', 0), ('IMG4230_3.jpg', 0), ('IMG4230_2.jpg', 0), ('IMG4230_1.jpg', 0), ('IMG4229_5.jpg', 0), ('IMG4229_4.jpg', 0), ('IMG4229_3.jpg', 0), ('IMG4229_2.jpg', 0), ('IMG4229_1.jpg', 0), ('IMG4228_5.jpg', 0), ('IMG4228_4.jpg', 0), ('IMG4228_3.jpg', 0), ('IMG4228_2.jpg', 0), ('IMG4228_1.jpg', 0), ('IMG4227_5.jpg', 0), ('IMG4227_4.jpg', 0), ('IMG4227_3.jpg', 0), ('IMG4227_2.jpg', 0), ('IMG4227_1.jpg', 0), ('IMG4226_5.jpg', 0), ('IMG4226_4.jpg', 0), ('IMG4226_3.jpg', 0), ('IMG4226_2.jpg', 0), ('IMG4226_1.jpg', 0), ('IMG4225_5.jpg', 0), ('IMG4225_4.jpg', 0), ('IMG4225_3.jpg', 0), ('IMG4225_2.jpg', 0), ('IMG4225_1.jpg', 0), ('IMG4224_5.jpg', 0), ('IMG4224_4.jpg', 0), ('IMG4224_3.jpg', 0), ('IMG4224_2.jpg', 0), ('IMG4224_1.jpg', 0), ('IMG4223_5.jpg', 0), ('IMG4223_4.jpg', 0), ('IMG4223_3.jpg', 0), ('IMG4223_2.jpg', 0), ('IMG4223_1.jpg', 0), ('IMG4222_5.jpg', 0), ('IMG4222_4.jpg', 0), ('IMG4222_3.jpg', 0), ('IMG4222_2.jpg', 0), ('IMG4222_1.jpg', 0), ('IMG4221_5.jpg', 0), ('IMG4221_4.jpg', 0), ('IMG4221_3.jpg', 0), ('IMG4221_2.jpg', 0), ('IMG4221_1.jpg', 0), ('IMG4220_5.jpg', 0), ('IMG4220_4.jpg', 0), ('IMG4220_3.jpg', 0), ('IMG4220_2.jpg', 0), ('IMG4220_1.jpg', 0), ('IMG4219_5.jpg', 0), ('IMG4219_4.jpg', 0), ('IMG4219_3.jpg', 0), ('IMG4219_2.jpg', 0), ('IMG4219_1.jpg', 0), ('IMG4218_5.jpg', 0), ('IMG4218_4.jpg', 0), ('IMG4218_3.jpg', 0), ('IMG4218_2.jpg', 0), ('IMG4218_1.jpg', 0), ('IMG4217_5.jpg', 0), ('IMG4217_4.jpg', 0), ('IMG4217_3.jpg', 0), ('IMG4217_2.jpg', 0), ('IMG4217_1.jpg', 0), ('IMG4216_5.jpg', 0), ('IMG4216_4.jpg', 0), ('IMG4216_3.jpg', 0), ('IMG4216_2.jpg', 0), ('IMG4216_1.jpg', 0), ('IMG4215_5.jpg', 0), ('IMG4215_4.jpg', 0), ('IMG4215_3.jpg', 0), ('IMG4215_2.jpg', 0), ('IMG4215_1.jpg', 0), ('IMG4214_5.jpg', 0), ('IMG4214_4.jpg', 0), ('IMG4214_3.jpg', 0), ('IMG4214_2.jpg', 0), ('IMG4214_1.jpg', 0), ('IMG4213_5.jpg', 0), ('IMG4213_4.jpg', 0), ('IMG4213_3.jpg', 0), ('IMG4213_2.jpg', 0), ('IMG4213_1.jpg', 0), ('IMG4212_5.jpg', 0), ('IMG4212_4.jpg', 0), ('IMG4212_3.jpg', 0), ('IMG4212_2.jpg', 0), ('IMG4212_1.jpg', 0), ('IMG4211_5.jpg', 0), ('IMG4211_4.jpg', 0), ('IMG4211_3.jpg', 0), ('IMG4211_2.jpg', 0), ('IMG4211_1.jpg', 0), ('IMG4210_5.jpg', 0), ('IMG4210_4.jpg', 0), ('IMG4210_3.jpg', 0), ('IMG4210_2.jpg', 0), ('IMG4210_1.jpg', 0), ('IMG4209_5.jpg', 0), ('IMG4209_4.jpg', 0), ('IMG4209_3.jpg', 0), ('IMG4209_2.jpg', 0), ('IMG4209_1.jpg', 0), ('IMG4208_5.jpg', 0), ('IMG4208_4.jpg', 0), ('IMG4208_3.jpg', 0), ('IMG4208_2.jpg', 0), ('IMG4208_1.jpg', 0), ('IMG4207_5.jpg', 0), ('IMG4207_4.jpg', 0), ('IMG4207_3.jpg', 0), ('IMG4207_2.jpg', 0), ('IMG4207_1.jpg', 0), ('IMG4206_5.jpg', 0), ('IMG4206_4.jpg', 0), ('IMG4206_3.jpg', 0), ('IMG4206_2.jpg', 0), ('IMG4206_1.jpg', 0), ('IMG4205_5.jpg', 0), ('IMG4205_4.jpg', 0), ('IMG4205_3.jpg', 0), ('IMG4205_2.jpg', 0), ('IMG4205_1.jpg', 0), ('IMG4204_5.jpg', 0), ('IMG4204_4.jpg', 0), ('IMG4204_3.jpg', 0), ('IMG4204_2.jpg', 0), ('IMG4204_1.jpg', 0)]\n"
     ]
    },
    {
     "name": "stderr",
     "output_type": "stream",
     "text": [
      "  0%|          | 0/2 [00:13<?, ?it/s]"
     ]
    },
    {
     "name": "stdout",
     "output_type": "stream",
     "text": [
      "[]\n"
     ]
    },
    {
     "name": "stderr",
     "output_type": "stream",
     "text": [
      "\n"
     ]
    },
    {
     "ename": "IndexError",
     "evalue": "list index out of range",
     "output_type": "error",
     "traceback": [
      "\u001b[0;31m---------------------------------------------------------------------------\u001b[0m",
      "\u001b[0;31mIndexError\u001b[0m                                Traceback (most recent call last)",
      "\u001b[0;32m<ipython-input-25-e8bea156d667>\u001b[0m in \u001b[0;36m<module>\u001b[0;34m\u001b[0m\n\u001b[0;32m----> 1\u001b[0;31m \u001b[0merr\u001b[0m \u001b[0;34m=\u001b[0m \u001b[0mmain_func\u001b[0m\u001b[0;34m(\u001b[0m\u001b[0;34m)\u001b[0m\u001b[0;34m\u001b[0m\u001b[0;34m\u001b[0m\u001b[0m\n\u001b[0m",
      "\u001b[0;32m<ipython-input-24-9b81815b49ca>\u001b[0m in \u001b[0;36mmain_func\u001b[0;34m(hash_num, flann_num)\u001b[0m\n\u001b[1;32m      9\u001b[0m         \u001b[0mprint\u001b[0m\u001b[0;34m(\u001b[0m\u001b[0morb_top\u001b[0m\u001b[0;34m)\u001b[0m\u001b[0;34m\u001b[0m\u001b[0;34m\u001b[0m\u001b[0m\n\u001b[1;32m     10\u001b[0m         \u001b[0mflann_top\u001b[0m \u001b[0;34m=\u001b[0m \u001b[0mfind_top_n\u001b[0m\u001b[0;34m(\u001b[0m\u001b[0mtest_file\u001b[0m\u001b[0;34m,\u001b[0m\u001b[0morb_top\u001b[0m\u001b[0;34m,\u001b[0m\u001b[0mflann_num\u001b[0m\u001b[0;34m)\u001b[0m\u001b[0;34m\u001b[0m\u001b[0;34m\u001b[0m\u001b[0m\n\u001b[0;32m---> 11\u001b[0;31m         \u001b[0mbest_match\u001b[0m \u001b[0;34m=\u001b[0m \u001b[0mfind_best\u001b[0m\u001b[0;34m(\u001b[0m\u001b[0mflann_top\u001b[0m\u001b[0;34m,\u001b[0m\u001b[0mtest_file\u001b[0m\u001b[0;34m)\u001b[0m\u001b[0;34m\u001b[0m\u001b[0;34m\u001b[0m\u001b[0m\n\u001b[0m\u001b[1;32m     12\u001b[0m         \u001b[0;32mif\u001b[0m \u001b[0mlen\u001b[0m\u001b[0;34m(\u001b[0m\u001b[0mbest_match\u001b[0m\u001b[0;34m)\u001b[0m\u001b[0;34m==\u001b[0m\u001b[0;36m1\u001b[0m\u001b[0;34m:\u001b[0m\u001b[0;34m\u001b[0m\u001b[0;34m\u001b[0m\u001b[0m\n\u001b[1;32m     13\u001b[0m             \u001b[0mbest_match\u001b[0m \u001b[0;34m=\u001b[0m \u001b[0mre\u001b[0m\u001b[0;34m.\u001b[0m\u001b[0msub\u001b[0m\u001b[0;34m(\u001b[0m\u001b[0;34m\".jpg\"\u001b[0m\u001b[0;34m,\u001b[0m\u001b[0;34m\"\"\u001b[0m\u001b[0;34m,\u001b[0m\u001b[0mbest_match\u001b[0m\u001b[0;34m[\u001b[0m\u001b[0;36m0\u001b[0m\u001b[0;34m]\u001b[0m\u001b[0;34m)\u001b[0m\u001b[0;34m\u001b[0m\u001b[0;34m\u001b[0m\u001b[0m\n",
      "\u001b[0;32m<ipython-input-15-b5e39d3c8c88>\u001b[0m in \u001b[0;36mfind_best\u001b[0;34m(top_n, img_path)\u001b[0m\n\u001b[1;32m     51\u001b[0m     \u001b[0;32mif\u001b[0m \u001b[0mlen\u001b[0m\u001b[0;34m(\u001b[0m\u001b[0mret\u001b[0m\u001b[0;34m)\u001b[0m\u001b[0;34m<\u001b[0m\u001b[0;36m1\u001b[0m\u001b[0;34m:\u001b[0m\u001b[0;34m\u001b[0m\u001b[0;34m\u001b[0m\u001b[0m\n\u001b[1;32m     52\u001b[0m         \u001b[0mprint\u001b[0m\u001b[0;34m(\u001b[0m\u001b[0mtop_n\u001b[0m\u001b[0;34m)\u001b[0m\u001b[0;34m\u001b[0m\u001b[0;34m\u001b[0m\u001b[0m\n\u001b[0;32m---> 53\u001b[0;31m         \u001b[0mret\u001b[0m\u001b[0;34m.\u001b[0m\u001b[0mappend\u001b[0m\u001b[0;34m(\u001b[0m\u001b[0mtop_n\u001b[0m\u001b[0;34m[\u001b[0m\u001b[0;36m0\u001b[0m\u001b[0;34m]\u001b[0m\u001b[0;34m[\u001b[0m\u001b[0;36m0\u001b[0m\u001b[0;34m]\u001b[0m\u001b[0;34m)\u001b[0m\u001b[0;34m\u001b[0m\u001b[0;34m\u001b[0m\u001b[0m\n\u001b[0m\u001b[1;32m     54\u001b[0m         \u001b[0mret\u001b[0m\u001b[0;34m.\u001b[0m\u001b[0mappend\u001b[0m\u001b[0;34m(\u001b[0m\u001b[0mtop_n\u001b[0m\u001b[0;34m[\u001b[0m\u001b[0;36m1\u001b[0m\u001b[0;34m]\u001b[0m\u001b[0;34m[\u001b[0m\u001b[0;36m0\u001b[0m\u001b[0;34m]\u001b[0m\u001b[0;34m)\u001b[0m\u001b[0;34m\u001b[0m\u001b[0;34m\u001b[0m\u001b[0m\n\u001b[1;32m     55\u001b[0m     \u001b[0;32mreturn\u001b[0m \u001b[0mret\u001b[0m\u001b[0;34m\u001b[0m\u001b[0;34m\u001b[0m\u001b[0m\n",
      "\u001b[0;31mIndexError\u001b[0m: list index out of range"
     ]
    }
   ],
   "source": [
    "err = main_func()"
   ]
  }
 ],
 "metadata": {
  "kernelspec": {
   "display_name": "Python 3",
   "language": "python",
   "name": "python3"
  },
  "language_info": {
   "codemirror_mode": {
    "name": "ipython",
    "version": 3
   },
   "file_extension": ".py",
   "mimetype": "text/x-python",
   "name": "python",
   "nbconvert_exporter": "python",
   "pygments_lexer": "ipython3",
   "version": "3.8.7"
  }
 },
 "nbformat": 4,
 "nbformat_minor": 5
}
